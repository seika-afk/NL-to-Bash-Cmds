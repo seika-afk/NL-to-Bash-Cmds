{
  "nbformat": 4,
  "nbformat_minor": 0,
  "metadata": {
    "colab": {
      "provenance": [],
      "gpuType": "T4"
    },
    "kernelspec": {
      "name": "python3",
      "display_name": "Python 3"
    },
    "language_info": {
      "name": "python"
    },
    "accelerator": "GPU"
  },
  "cells": [
    {
      "cell_type": "markdown",
      "source": [
        "NL2Bash using Transformer"
      ],
      "metadata": {
        "id": "Tp5tle8CCWaC"
      }
    },
    {
      "cell_type": "markdown",
      "source": [
        "# Steps including:\n",
        "\n",
        "1.loading dataset\n",
        "\n",
        "\n",
        "3.Defining Transformer model\n",
        "\n",
        "4.Training Loop\n",
        "\n",
        "5.Saving model\n",
        "\n",
        "6.Testing Model\n",
        "\n",
        "\n",
        "\n",
        "\n"
      ],
      "metadata": {
        "id": "VXY0SEgHCYwG"
      }
    },
    {
      "cell_type": "markdown",
      "source": [
        "# Loading Dataset\n"
      ],
      "metadata": {
        "id": "fNuY7tYmDQ8u"
      }
    },
    {
      "cell_type": "code",
      "source": [
        "import pandas as pd"
      ],
      "metadata": {
        "id": "dxcr7MeQDVoi"
      },
      "execution_count": 2,
      "outputs": []
    },
    {
      "cell_type": "code",
      "execution_count": 3,
      "metadata": {
        "id": "alYAKUpOCP74"
      },
      "outputs": [],
      "source": [
        "df=pd.read_csv(\"/content/dataset.csv\")"
      ]
    },
    {
      "cell_type": "code",
      "source": [
        "df.head()"
      ],
      "metadata": {
        "colab": {
          "base_uri": "https://localhost:8080/",
          "height": 206
        },
        "id": "Uf-iPmRMDUzp",
        "outputId": "cdbfd8f4-a3eb-4f35-a866-31acc81a9bd7"
      },
      "execution_count": 10,
      "outputs": [
        {
          "output_type": "execute_result",
          "data": {
            "text/plain": [
              "                                   natural_language terminal_command\n",
              "0           List all files in the current directory               ls\n",
              "1           Show me all the files in this directory               ls\n",
              "2  Can you display the files in the current folder?               ls\n",
              "3          Please list everything in this directory               ls\n",
              "4           Show all files in the current directory               ls"
            ],
            "text/html": [
              "\n",
              "  <div id=\"df-f75922d3-4294-49c7-81a6-dce702d0cf49\" class=\"colab-df-container\">\n",
              "    <div>\n",
              "<style scoped>\n",
              "    .dataframe tbody tr th:only-of-type {\n",
              "        vertical-align: middle;\n",
              "    }\n",
              "\n",
              "    .dataframe tbody tr th {\n",
              "        vertical-align: top;\n",
              "    }\n",
              "\n",
              "    .dataframe thead th {\n",
              "        text-align: right;\n",
              "    }\n",
              "</style>\n",
              "<table border=\"1\" class=\"dataframe\">\n",
              "  <thead>\n",
              "    <tr style=\"text-align: right;\">\n",
              "      <th></th>\n",
              "      <th>natural_language</th>\n",
              "      <th>terminal_command</th>\n",
              "    </tr>\n",
              "  </thead>\n",
              "  <tbody>\n",
              "    <tr>\n",
              "      <th>0</th>\n",
              "      <td>List all files in the current directory</td>\n",
              "      <td>ls</td>\n",
              "    </tr>\n",
              "    <tr>\n",
              "      <th>1</th>\n",
              "      <td>Show me all the files in this directory</td>\n",
              "      <td>ls</td>\n",
              "    </tr>\n",
              "    <tr>\n",
              "      <th>2</th>\n",
              "      <td>Can you display the files in the current folder?</td>\n",
              "      <td>ls</td>\n",
              "    </tr>\n",
              "    <tr>\n",
              "      <th>3</th>\n",
              "      <td>Please list everything in this directory</td>\n",
              "      <td>ls</td>\n",
              "    </tr>\n",
              "    <tr>\n",
              "      <th>4</th>\n",
              "      <td>Show all files in the current directory</td>\n",
              "      <td>ls</td>\n",
              "    </tr>\n",
              "  </tbody>\n",
              "</table>\n",
              "</div>\n",
              "    <div class=\"colab-df-buttons\">\n",
              "\n",
              "  <div class=\"colab-df-container\">\n",
              "    <button class=\"colab-df-convert\" onclick=\"convertToInteractive('df-f75922d3-4294-49c7-81a6-dce702d0cf49')\"\n",
              "            title=\"Convert this dataframe to an interactive table.\"\n",
              "            style=\"display:none;\">\n",
              "\n",
              "  <svg xmlns=\"http://www.w3.org/2000/svg\" height=\"24px\" viewBox=\"0 -960 960 960\">\n",
              "    <path d=\"M120-120v-720h720v720H120Zm60-500h600v-160H180v160Zm220 220h160v-160H400v160Zm0 220h160v-160H400v160ZM180-400h160v-160H180v160Zm440 0h160v-160H620v160ZM180-180h160v-160H180v160Zm440 0h160v-160H620v160Z\"/>\n",
              "  </svg>\n",
              "    </button>\n",
              "\n",
              "  <style>\n",
              "    .colab-df-container {\n",
              "      display:flex;\n",
              "      gap: 12px;\n",
              "    }\n",
              "\n",
              "    .colab-df-convert {\n",
              "      background-color: #E8F0FE;\n",
              "      border: none;\n",
              "      border-radius: 50%;\n",
              "      cursor: pointer;\n",
              "      display: none;\n",
              "      fill: #1967D2;\n",
              "      height: 32px;\n",
              "      padding: 0 0 0 0;\n",
              "      width: 32px;\n",
              "    }\n",
              "\n",
              "    .colab-df-convert:hover {\n",
              "      background-color: #E2EBFA;\n",
              "      box-shadow: 0px 1px 2px rgba(60, 64, 67, 0.3), 0px 1px 3px 1px rgba(60, 64, 67, 0.15);\n",
              "      fill: #174EA6;\n",
              "    }\n",
              "\n",
              "    .colab-df-buttons div {\n",
              "      margin-bottom: 4px;\n",
              "    }\n",
              "\n",
              "    [theme=dark] .colab-df-convert {\n",
              "      background-color: #3B4455;\n",
              "      fill: #D2E3FC;\n",
              "    }\n",
              "\n",
              "    [theme=dark] .colab-df-convert:hover {\n",
              "      background-color: #434B5C;\n",
              "      box-shadow: 0px 1px 3px 1px rgba(0, 0, 0, 0.15);\n",
              "      filter: drop-shadow(0px 1px 2px rgba(0, 0, 0, 0.3));\n",
              "      fill: #FFFFFF;\n",
              "    }\n",
              "  </style>\n",
              "\n",
              "    <script>\n",
              "      const buttonEl =\n",
              "        document.querySelector('#df-f75922d3-4294-49c7-81a6-dce702d0cf49 button.colab-df-convert');\n",
              "      buttonEl.style.display =\n",
              "        google.colab.kernel.accessAllowed ? 'block' : 'none';\n",
              "\n",
              "      async function convertToInteractive(key) {\n",
              "        const element = document.querySelector('#df-f75922d3-4294-49c7-81a6-dce702d0cf49');\n",
              "        const dataTable =\n",
              "          await google.colab.kernel.invokeFunction('convertToInteractive',\n",
              "                                                    [key], {});\n",
              "        if (!dataTable) return;\n",
              "\n",
              "        const docLinkHtml = 'Like what you see? Visit the ' +\n",
              "          '<a target=\"_blank\" href=https://colab.research.google.com/notebooks/data_table.ipynb>data table notebook</a>'\n",
              "          + ' to learn more about interactive tables.';\n",
              "        element.innerHTML = '';\n",
              "        dataTable['output_type'] = 'display_data';\n",
              "        await google.colab.output.renderOutput(dataTable, element);\n",
              "        const docLink = document.createElement('div');\n",
              "        docLink.innerHTML = docLinkHtml;\n",
              "        element.appendChild(docLink);\n",
              "      }\n",
              "    </script>\n",
              "  </div>\n",
              "\n",
              "\n",
              "    <div id=\"df-3431fc1c-df0a-43ae-9319-f8a9e0c73b5b\">\n",
              "      <button class=\"colab-df-quickchart\" onclick=\"quickchart('df-3431fc1c-df0a-43ae-9319-f8a9e0c73b5b')\"\n",
              "                title=\"Suggest charts\"\n",
              "                style=\"display:none;\">\n",
              "\n",
              "<svg xmlns=\"http://www.w3.org/2000/svg\" height=\"24px\"viewBox=\"0 0 24 24\"\n",
              "     width=\"24px\">\n",
              "    <g>\n",
              "        <path d=\"M19 3H5c-1.1 0-2 .9-2 2v14c0 1.1.9 2 2 2h14c1.1 0 2-.9 2-2V5c0-1.1-.9-2-2-2zM9 17H7v-7h2v7zm4 0h-2V7h2v10zm4 0h-2v-4h2v4z\"/>\n",
              "    </g>\n",
              "</svg>\n",
              "      </button>\n",
              "\n",
              "<style>\n",
              "  .colab-df-quickchart {\n",
              "      --bg-color: #E8F0FE;\n",
              "      --fill-color: #1967D2;\n",
              "      --hover-bg-color: #E2EBFA;\n",
              "      --hover-fill-color: #174EA6;\n",
              "      --disabled-fill-color: #AAA;\n",
              "      --disabled-bg-color: #DDD;\n",
              "  }\n",
              "\n",
              "  [theme=dark] .colab-df-quickchart {\n",
              "      --bg-color: #3B4455;\n",
              "      --fill-color: #D2E3FC;\n",
              "      --hover-bg-color: #434B5C;\n",
              "      --hover-fill-color: #FFFFFF;\n",
              "      --disabled-bg-color: #3B4455;\n",
              "      --disabled-fill-color: #666;\n",
              "  }\n",
              "\n",
              "  .colab-df-quickchart {\n",
              "    background-color: var(--bg-color);\n",
              "    border: none;\n",
              "    border-radius: 50%;\n",
              "    cursor: pointer;\n",
              "    display: none;\n",
              "    fill: var(--fill-color);\n",
              "    height: 32px;\n",
              "    padding: 0;\n",
              "    width: 32px;\n",
              "  }\n",
              "\n",
              "  .colab-df-quickchart:hover {\n",
              "    background-color: var(--hover-bg-color);\n",
              "    box-shadow: 0 1px 2px rgba(60, 64, 67, 0.3), 0 1px 3px 1px rgba(60, 64, 67, 0.15);\n",
              "    fill: var(--button-hover-fill-color);\n",
              "  }\n",
              "\n",
              "  .colab-df-quickchart-complete:disabled,\n",
              "  .colab-df-quickchart-complete:disabled:hover {\n",
              "    background-color: var(--disabled-bg-color);\n",
              "    fill: var(--disabled-fill-color);\n",
              "    box-shadow: none;\n",
              "  }\n",
              "\n",
              "  .colab-df-spinner {\n",
              "    border: 2px solid var(--fill-color);\n",
              "    border-color: transparent;\n",
              "    border-bottom-color: var(--fill-color);\n",
              "    animation:\n",
              "      spin 1s steps(1) infinite;\n",
              "  }\n",
              "\n",
              "  @keyframes spin {\n",
              "    0% {\n",
              "      border-color: transparent;\n",
              "      border-bottom-color: var(--fill-color);\n",
              "      border-left-color: var(--fill-color);\n",
              "    }\n",
              "    20% {\n",
              "      border-color: transparent;\n",
              "      border-left-color: var(--fill-color);\n",
              "      border-top-color: var(--fill-color);\n",
              "    }\n",
              "    30% {\n",
              "      border-color: transparent;\n",
              "      border-left-color: var(--fill-color);\n",
              "      border-top-color: var(--fill-color);\n",
              "      border-right-color: var(--fill-color);\n",
              "    }\n",
              "    40% {\n",
              "      border-color: transparent;\n",
              "      border-right-color: var(--fill-color);\n",
              "      border-top-color: var(--fill-color);\n",
              "    }\n",
              "    60% {\n",
              "      border-color: transparent;\n",
              "      border-right-color: var(--fill-color);\n",
              "    }\n",
              "    80% {\n",
              "      border-color: transparent;\n",
              "      border-right-color: var(--fill-color);\n",
              "      border-bottom-color: var(--fill-color);\n",
              "    }\n",
              "    90% {\n",
              "      border-color: transparent;\n",
              "      border-bottom-color: var(--fill-color);\n",
              "    }\n",
              "  }\n",
              "</style>\n",
              "\n",
              "      <script>\n",
              "        async function quickchart(key) {\n",
              "          const quickchartButtonEl =\n",
              "            document.querySelector('#' + key + ' button');\n",
              "          quickchartButtonEl.disabled = true;  // To prevent multiple clicks.\n",
              "          quickchartButtonEl.classList.add('colab-df-spinner');\n",
              "          try {\n",
              "            const charts = await google.colab.kernel.invokeFunction(\n",
              "                'suggestCharts', [key], {});\n",
              "          } catch (error) {\n",
              "            console.error('Error during call to suggestCharts:', error);\n",
              "          }\n",
              "          quickchartButtonEl.classList.remove('colab-df-spinner');\n",
              "          quickchartButtonEl.classList.add('colab-df-quickchart-complete');\n",
              "        }\n",
              "        (() => {\n",
              "          let quickchartButtonEl =\n",
              "            document.querySelector('#df-3431fc1c-df0a-43ae-9319-f8a9e0c73b5b button');\n",
              "          quickchartButtonEl.style.display =\n",
              "            google.colab.kernel.accessAllowed ? 'block' : 'none';\n",
              "        })();\n",
              "      </script>\n",
              "    </div>\n",
              "\n",
              "    </div>\n",
              "  </div>\n"
            ],
            "application/vnd.google.colaboratory.intrinsic+json": {
              "type": "dataframe",
              "variable_name": "df",
              "summary": "{\n  \"name\": \"df\",\n  \"rows\": 642,\n  \"fields\": [\n    {\n      \"column\": \"natural_language\",\n      \"properties\": {\n        \"dtype\": \"string\",\n        \"num_unique_values\": 611,\n        \"samples\": [\n          \"kill the process whose pid is 2342\",\n          \"Rename \\\"new\\\" to \\\"old\\\" and backup to \\\"old.old\\\" if \\\"old\\\" exists\",\n          \"move to the top-level directory\"\n        ],\n        \"semantic_type\": \"\",\n        \"description\": \"\"\n      }\n    },\n    {\n      \"column\": \"terminal_command\",\n      \"properties\": {\n        \"dtype\": \"string\",\n        \"num_unique_values\": 496,\n        \"samples\": [\n          \"ifconfig eth0 down\",\n          \"cp /dev/null emptyfile.c\",\n          \"cat infile | paste -sd ',\\\\n'\"\n        ],\n        \"semantic_type\": \"\",\n        \"description\": \"\"\n      }\n    }\n  ]\n}"
            }
          },
          "metadata": {},
          "execution_count": 10
        }
      ]
    },
    {
      "cell_type": "code",
      "source": [
        "natural_lang=df[\"natural_language\"]\n",
        "term_cmd=df[\"terminal_command\"]"
      ],
      "metadata": {
        "id": "Tyw7319nDYK0"
      },
      "execution_count": 12,
      "outputs": []
    },
    {
      "cell_type": "code",
      "source": [
        "print(natural_lang[100])\n",
        "print(term_cmd[100])"
      ],
      "metadata": {
        "colab": {
          "base_uri": "https://localhost:8080/"
        },
        "id": "YPbDn2WBDpyh",
        "outputId": "34486e80-05a2-4d25-9856-e6df552a16c8"
      },
      "execution_count": 15,
      "outputs": [
        {
          "output_type": "stream",
          "name": "stdout",
          "text": [
            "Remove the file 'file1.txt'\n",
            "rm file1.txt\n"
          ]
        }
      ]
    },
    {
      "cell_type": "code",
      "source": [
        "natural_lang.tolist()\n",
        "term_cmd.tolist()"
      ],
      "metadata": {
        "colab": {
          "base_uri": "https://localhost:8080/"
        },
        "id": "rZUw7I-ND2zy",
        "outputId": "3b9f5662-b241-48cb-d900-60d35d5fb794"
      },
      "execution_count": 19,
      "outputs": [
        {
          "output_type": "execute_result",
          "data": {
            "text/plain": [
              "['ls',\n",
              " 'ls',\n",
              " 'ls',\n",
              " 'ls',\n",
              " 'ls',\n",
              " 'ls',\n",
              " 'ls -a',\n",
              " 'ls -a',\n",
              " 'ls -a',\n",
              " 'ls -a',\n",
              " 'ls -a',\n",
              " 'ls -l',\n",
              " 'ls -l',\n",
              " 'ls -l',\n",
              " 'ls -l',\n",
              " 'ls',\n",
              " 'ls -l',\n",
              " 'man ls',\n",
              " 'cd Documents',\n",
              " 'cd Documents',\n",
              " 'cd newDir',\n",
              " 'cd newDir',\n",
              " 'cd newDir',\n",
              " 'cd Documents',\n",
              " 'cd /home/user/docs',\n",
              " 'cd /home/user/docs',\n",
              " 'cd /home/user/docs',\n",
              " 'cd /home/user/docs',\n",
              " 'cd /var/logs',\n",
              " 'cd /var/logs',\n",
              " 'cd /var/logs',\n",
              " 'cd /var/logs',\n",
              " 'cd Documents',\n",
              " 'cd Documents',\n",
              " 'cd Documents',\n",
              " 'cd ~/Documents',\n",
              " 'cd ~/Documents',\n",
              " 'cd ..',\n",
              " 'cd ..',\n",
              " 'cd ..',\n",
              " 'cd ..',\n",
              " 'cd ..',\n",
              " 'cd ..',\n",
              " 'cd ..',\n",
              " 'cd ..',\n",
              " 'cd ..',\n",
              " 'cd newDir',\n",
              " 'cd hello',\n",
              " 'cd seema',\n",
              " 'cd Gfg',\n",
              " 'cd Gfg',\n",
              " 'cd path',\n",
              " 'cd seema',\n",
              " 'cd /home/user/docs',\n",
              " 'cd /var/logs',\n",
              " 'cd /',\n",
              " 'cd /',\n",
              " 'cd /',\n",
              " 'cd /',\n",
              " 'cd ~',\n",
              " 'cd ~',\n",
              " 'cd ~',\n",
              " 'cd ~',\n",
              " 'exit',\n",
              " 'exit',\n",
              " 'exit',\n",
              " 'exit',\n",
              " 'exit',\n",
              " 'exit',\n",
              " 'exit',\n",
              " 'exit',\n",
              " 'exit',\n",
              " 'exit',\n",
              " 'exit',\n",
              " 'exit',\n",
              " 'exit',\n",
              " 'exit',\n",
              " 'exit',\n",
              " 'kill 12345',\n",
              " 'kill 12345',\n",
              " 'kill 12345',\n",
              " 'kill 12345',\n",
              " 'kill 12345',\n",
              " 'kill 2342',\n",
              " 'kill 3423',\n",
              " 'mkdir my_project',\n",
              " 'mkdir my_project',\n",
              " 'mkdir my_project',\n",
              " 'mkdir my_project',\n",
              " 'mkdir my_project',\n",
              " 'rm file2.txt',\n",
              " 'rm file2.txt',\n",
              " 'rm file2.txt',\n",
              " 'rm file2.txt',\n",
              " 'rm file2.txt',\n",
              " 'rmdir old_folder',\n",
              " 'rmdir old_folder',\n",
              " 'rmdir old_folder',\n",
              " 'rmdir old_folder',\n",
              " 'rmdir old_folder',\n",
              " 'rm file1.txt',\n",
              " 'rm file1.txt',\n",
              " 'rm file1.txt',\n",
              " 'rm file1.txt',\n",
              " 'rm file1.txt',\n",
              " 'rmdir backup',\n",
              " 'rmdir backup',\n",
              " 'rmdir backup',\n",
              " 'rmdir backup',\n",
              " 'rmdir backup',\n",
              " 'help',\n",
              " 'help',\n",
              " 'help',\n",
              " 'help',\n",
              " 'help',\n",
              " 'help',\n",
              " 'help',\n",
              " 'help',\n",
              " 'help',\n",
              " 'help',\n",
              " 'help',\n",
              " 'help',\n",
              " 'help',\n",
              " 'help',\n",
              " 'help',\n",
              " 'man <command>',\n",
              " 'man ls',\n",
              " 'man mkdir',\n",
              " 'man mkdir',\n",
              " 'mkdir project',\n",
              " 'mkdir new_folder',\n",
              " 'mkdir test_dir',\n",
              " 'mkdir test_dir',\n",
              " 'mkdir work',\n",
              " 'help',\n",
              " 'pwd',\n",
              " 'echo hi',\n",
              " 'echo hello',\n",
              " 'echo Hello, world!',\n",
              " 'echo Hi everyone!',\n",
              " 'echo My name is John',\n",
              " 'echo $USER',\n",
              " 'echo “hi”',\n",
              " 'echo “hello all”',\n",
              " 'echo this is project',\n",
              " 'echo how are you?',\n",
              " 'echo this is file ',\n",
              " 'echo this is file',\n",
              " 'echo \"folder1\"',\n",
              " 'echo this is file in a project',\n",
              " 'touch -d \"$(date -r filename) - 2 hours\" filename',\n",
              " 'touch -d \"$(date -r \"$filename\") - 2 hours\" \"$filename\"',\n",
              " 'touch -h somesymlink',\n",
              " 'touch -m 201111301200.00 $log_dir/last.check',\n",
              " 'touch \"$correctFilePathAndName\"',\n",
              " \"touch $'Icon\\\\r'\",\n",
              " 'touch index.html',\n",
              " 'touch -a UEDP0{1..5}_20120821.csv',\n",
              " 'touch .bash_profile',\n",
              " 'touch -r A B',\n",
              " 'touch -d\"$(date --date=\"@$old_time\")\" B',\n",
              " \"touch -d '30 August 2013' *.php\",\n",
              " 'touch `cat files_to_find.txt`',\n",
              " 'touch filename',\n",
              " 'cp --remove-destination $(readlink $f) $f',\n",
              " 'cp -f \"$project_dir\"/iTunesArtwork Payload/iTunesArtwork',\n",
              " 'cp -n src dest',\n",
              " 'cp lib*.so ~/usr/gtest/lib',\n",
              " 'cp -vi /boot/config-`uname -r` .config',\n",
              " 'cp --parents src/prog.js images/icon.jpg /tmp/package',\n",
              " 'cp $(ls -1tr * | tail -1) /tmp/',\n",
              " 'cp `ls | grep -v Music` /target_directory',\n",
              " 'cp /file/that/exists /location/for/new/file',\n",
              " 'cp -n src dest',\n",
              " 'cp -rf --remove-destination `readlink file` file',\n",
              " 'cp -nr src_dir dest_dir',\n",
              " 'cp --parents src/prog.js images/icon.jpg /tmp/package',\n",
              " 'cp -R t1/ t2',\n",
              " 'cp /dev/null emptyfile.c',\n",
              " 'cp --help',\n",
              " 'cp -rs /mnt/usr/lib /usr/',\n",
              " 'cp -R SRCFOLDER DESTFOLDER/',\n",
              " 'cp -r dir1/ ~/Pictures/',\n",
              " 'cp --help',\n",
              " 'cp -R \"$1\" \"$2\"',\n",
              " 'cp -Rp \"$appname.app\" Payload/',\n",
              " 'cp -r ../include/gtest ~/usr/gtest/include/',\n",
              " 'cp -R SRCFOLDER DESTFOLDER/',\n",
              " 'cp -nr src_dir dest_dir',\n",
              " 'cp -rs /mnt/usr/lib /usr/',\n",
              " 'cp -rv `ls -A | grep -vE \"dirToExclude|targetDir\"` targetDir',\n",
              " 'cp -r `ls -A | grep -v \"c\"` $HOME/',\n",
              " 'cp -Rvn /source/path/* /destination/path/',\n",
              " 'cp * .hiddendir -R',\n",
              " 'cp -Rvn /source/path/* /destination/path/',\n",
              " 'cp `find -perm -111 -type f` /usr/local/bin',\n",
              " 'cp `find -perm -111 -type f` /usr/local/bin',\n",
              " 'mv $(find $(find . -name \"*shp*\" -printf \"%h\\\\n\" | uniq) -type f) ../shp_all/',\n",
              " 'mv /usr/bin/openssl /root/',\n",
              " 'mv -nv caniwrite /usr/local/bin',\n",
              " 'mv -f file.txt /var/lib/docker/devicemapper/mnt/$CONTAINER_ID/rootfs/root/file.txt',\n",
              " 'mv -f file.txt /var/lib/docker/aufs/mnt/$CONTAINER_ID/rootfs/root/file.txt',\n",
              " 'mv -t target file1 file2 ...',\n",
              " 'mv tobecopied/tobeexclude tobeexclude;',\n",
              " 'mv tobecopied/tobeexcluded .',\n",
              " 'mv * /tmp/blah/',\n",
              " 'mv `ls` somewhere/',\n",
              " 'mv `ls *.boo` subdir',\n",
              " 'mv /mnt/usbdisk/[^l]* /home/user/stuff/.',\n",
              " 'mv /source/path/{.[!.],}* /destination/path',\n",
              " 'mv /path/subfolder/{.,}* /path/',\n",
              " 'mv ~/Linux/Old/^Tux.png ~/Linux/New/',\n",
              " 'mv /path/subfolder/.* /path/',\n",
              " 'mv wordpress/.* .',\n",
              " 'mv server.log logs/$(date -d \"today\" +\"%Y%m%d%H%M\").log',\n",
              " 'mv \"/tmp/`basename $1`\" \"`dirname $2`\"',\n",
              " 'mv Tux.png .Tux.png',\n",
              " 'mv blah1 blah1-new',\n",
              " 'mv blah2 blah2-new',\n",
              " 'mv fghfilea jklfilea',\n",
              " 'mv file0001.txt 1.txt',\n",
              " 'mv new old -b -S .old',\n",
              " 'mv new old -b',\n",
              " 'mv original.filename new.original.filename',\n",
              " 'mv {,new.}original.filename',\n",
              " 'mv svnlog.py svnlog',\n",
              " 'mv -T www_new www',\n",
              " 'mv $file $(echo $file | rev | cut -f2- -d- | rev).pkg',\n",
              " 'mv \"$(readlink -f dirln)\" dir2',\n",
              " 'mv file.txt.123456 $(ls file.txt.123456 | rev | cut -c8- | rev)',\n",
              " \"mv $1 `echo $1 | tr '[:upper:]' '[:lower:]'`\",\n",
              " 'cat /boot/config-`uname -r` | grep IP_MROUTE',\n",
              " 'cat /boot/config-`uname -r`',\n",
              " 'cat /proc/2671/maps | grep `which tail`',\n",
              " 'cat <(crontab -l) <(echo \"1 2 3 4 5 scripty.sh\") | crontab -',\n",
              " 'cat file1 file2 | crontab',\n",
              " 'cat *.py | md5sum',\n",
              " 'cat $FILES | md5sum',\n",
              " 'cat *.txt | sort | sort -u -c',\n",
              " 'cat allFolders.txt | xargs -n 1 cp fileName.txt',\n",
              " 'cat allFolders.txt | xargs -n 1 cp fileName.txt',\n",
              " 'cat $1 | ssh $2 \"mkdir $3;cat >> $3/$1\"',\n",
              " 'cat /dir/file.txt | wc -l',\n",
              " 'cat /etc/fstab | wc -l',\n",
              " 'cat myfile.txt | wc -l',\n",
              " 'cat *.txt | wc -l',\n",
              " \"cat 'filename' | grep '[^ ]' | wc -l\",\n",
              " 'cat /dir/file.txt | wc -l',\n",
              " 'cat /etc/fstab | wc -l',\n",
              " 'cat *.txt | wc -l',\n",
              " 'cat myfile.txt | wc -l',\n",
              " 'cat fileName | grep -v ^$ | wc -l',\n",
              " 'cat results2.txt | xargs -I{} ln -s {} ~/newlinks',\n",
              " 'cat <(fgrep -i -v \"$command\" <(crontab -l)) <(echo \"$job\") | crontab -',\n",
              " 'cat infile | od -c',\n",
              " 'cat /boot/System.map-`uname -r` | grep funcname',\n",
              " 'cat | od -b',\n",
              " 'cat `which ~/f`',\n",
              " 'cat myfile',\n",
              " 'cat text',\n",
              " 'cat archive.tar | tar x',\n",
              " 'cat files.txt | xargs scp user@remote:',\n",
              " \"cat $(find . -name '*.foo')\",\n",
              " \"cat `find . -name '*.foo' -print`\",\n",
              " 'cat \"$FILE\" | grep \"^${KEY}${DELIMITER}\" | cut -f2- -d\"$DELIMITER\"',\n",
              " 'cat /var/run/dmesg.boot | grep Features',\n",
              " 'cat file.txt | column -c 28 -s \"\\\\ \"',\n",
              " 'cat file | column -c 80',\n",
              " 'cat 1.txt | xargs dig TXT',\n",
              " 'cat file-of-ips | xargs -n 1 -I ^ -P 50 ping ^',\n",
              " 'cat <(ls 1 | sort -u) <(ls 2 | sort -u) | uniq -d',\n",
              " 'cat folder_list.txt | xargs mkdir',\n",
              " 'cat file1 |xargs -I {} dirname \"{}\"| sort -u | xargs -I{} mkdir -p \"{}\"',\n",
              " 'cat $i | xargs mv -t dir.$count',\n",
              " 'cat files | sort -t- -k2,2 -n',\n",
              " 'cat ips | xargs -i% ping -c 2 %',\n",
              " 'cat ips | xargs -n1 ping -c 2',\n",
              " 'cat somedata.txt | \"$outfile\"',\n",
              " 'cat ips | xargs -n1 echo ping -c 2',\n",
              " 'cat ips | xargs echo ping -c 2',\n",
              " 'cat new.txt  | nl',\n",
              " 'cat file | fold -s -w29',\n",
              " 'cat file | xargs -n3',\n",
              " 'cat -n infile',\n",
              " \"cat /dev/urandom | tr -dc '. ' | fold -w 100 | head -1\",\n",
              " 'cat report.txt | grep -i error',\n",
              " 'cat $1.tmp | sort -u',\n",
              " 'cat /proc/17709/cmdline | xargs -0 echo',\n",
              " \"cat `find . -name '*.foo' -print`\",\n",
              " 'cat -vet a',\n",
              " 'cat -v -e filename',\n",
              " \"cat whatever | egrep 'snozzberries|$'\",\n",
              " 'cat /etc/passwd /etc/group',\n",
              " \"cat $(find . -name '*.foo')\",\n",
              " \"cat /dev/urandom | tr -dc '. ' | fold -w 100\",\n",
              " \"cat file | paste -d' ' - -\",\n",
              " 'cat file | paste -d\\\\ - - -',\n",
              " 'cat `which java` | file -',\n",
              " \"cat text.txt | tr -s ' ' | cut -d ' ' -f4\",\n",
              " 'cat /proc/1/sched  | head -n 1',\n",
              " 'cat file | xargs',\n",
              " 'cat file | head -n 16482 | tail -n 258',\n",
              " 'cat <(grep -vxF -f set1 set2) <(grep -vxF -f set2 set1)',\n",
              " 'cat $file | wc -c',\n",
              " \"cat /dev/urandom | tr -dc 'a-zA-Z0-9'\",\n",
              " 'cat file | fold -w29 | head -1',\n",
              " 'cat file | fold -s -w29 | head -1',\n",
              " \"cat file1.txt | grep -Fvf file2.txt | grep '^Q'\",\n",
              " \"cat /dev/urandom | tr -dC '[:graph:]'\",\n",
              " \"cat datafile | rev | cut -d '/' -f 2 | rev\",\n",
              " 'cat set1 set2 | sort -u',\n",
              " 'cat -n file_name | sort -uk2 | sort -nk1 | cut -f2-',\n",
              " 'cat ${SPOOL_FILE}                   | tee -a ${LOG_FILE}',\n",
              " 'cat Little_Commas.TXT',\n",
              " 'cat filename',\n",
              " 'cat my_script.py',\n",
              " 'cat n',\n",
              " 'cat numbers.txt',\n",
              " 'cat xx.sh',\n",
              " 'cat ~/.ssh/config',\n",
              " 'cat /var/spool/mail/`whoami`',\n",
              " 'cat \"$(which f)\"',\n",
              " 'cat `which f`',\n",
              " \"cat /dev/urandom | LC_ALL=C tr -dc 'a-zA-Z0-9' | fold -w 24 | head -n 1\",\n",
              " \"cat /dev/urandom | tr -cd 'a-f0-9' | head -c 32\",\n",
              " \"cat /dev/urandom | env LC_CTYPE=C tr -cd 'a-f0-9' | head -c 32\",\n",
              " 'cat files.txt | xargs du -c | tail -1',\n",
              " 'cat /proc/config.gz | gunzip',\n",
              " 'cat $file | cut -c 1-10',\n",
              " 'cat `find . -name \"*.php\"` | wc -l',\n",
              " 'cat /dev/input/mice | od -t x1 -w3',\n",
              " 'cat',\n",
              " 'cat -n',\n",
              " 'cat f.html | grep -o \\\\',\n",
              " 'cat searches.txt| xargs -I {} -d, -n 1 grep  -r {}',\n",
              " 'cat data.csv | rev | cut -d, -f-5 | rev',\n",
              " 'cat infile.txt | tr -d \"[:space:]\" | fold -80',\n",
              " 'cat $filename | rev | cut -c 3- | rev',\n",
              " \"cat text.txt | tr -s ' ' | cut -d ' ' -f 4\",\n",
              " 'cat ${TMP}/${SCRIPT_NAME}.kb|sort -rh;',\n",
              " 'cat ${TMP}/${SCRIPT_NAME}.name|sort -r;',\n",
              " 'cat ${TMP}/${SCRIPT_NAME}.pid|sort -rh;',\n",
              " 'cat inputfile | grep \"^t\\\\:\" | split -l 200',\n",
              " 'cat my_ips | xargs -i dig -x {} +short',\n",
              " 'cat myfile.txt| sort| uniq',\n",
              " 'cat *.txt | tail -n +1001 | split --lines=1000',\n",
              " 'cat www-backup.tar.*|gunzip -c |tar xvf -',\n",
              " 'cat <(yes | tr \\\\\\\\n x | head -c $BYTES) <(sleep $SECONDS) | grep n',\n",
              " 'cat file.txt | fold',\n",
              " \"cat infile | paste -sd ',\\\\n'\",\n",
              " \"cat infile | paste -sd '  \\\\n'\",\n",
              " \"cat file.txt | rev | cut -d ',' -f 2 | rev\",\n",
              " 'cat -n text.txt | join -o2.2 lines.txt -',\n",
              " 'cat inputfile | grep \"^t\\\\:\" | split -l 200',\n",
              " 'cat *.txt | tail -n +1001 | split --lines=1000',\n",
              " \"find / -name filename -exec nano '{}' \\\\;\",\n",
              " \"find / -name filename -exec nano '{}' \\\\;\",\n",
              " \"find /usr/bin -name '*vim*' -type l\",\n",
              " \"find -type f -iname '*.un~'\",\n",
              " 'history | vim -',\n",
              " 'sudo vim `which charm`',\n",
              " 'find . -name \"*.c\" -print | vim -',\n",
              " 'nano <filename>',\n",
              " 'vim <filename>',\n",
              " \"find /usr/bin -name '*vim*' -type l\",\n",
              " 'ps -e',\n",
              " 'ps -ef',\n",
              " 'ps -u <username>',\n",
              " 'ps -ejH',\n",
              " 'ps -eo pid,pmem,pcpu,cmd',\n",
              " 'ps aux --sort=-%mem',\n",
              " 'ps aux --sort=-%cpu',\n",
              " 'ps -eo ppid,pid,cmd',\n",
              " 'ps -eo pid,ppid,cmd,%mem,%cpu',\n",
              " 'ps -eLf',\n",
              " 'ps axjf',\n",
              " 'top',\n",
              " 'top',\n",
              " 'top -p $(pgrep <process_name>)',\n",
              " 'top -n <number>',\n",
              " 'top -H',\n",
              " 'top -d <seconds>',\n",
              " 'top -a',\n",
              " 'top -o pid',\n",
              " 'top -v',\n",
              " 'top',\n",
              " 'top -p \"$\"',\n",
              " 'top -n 1',\n",
              " 'htop',\n",
              " 'htop',\n",
              " 'kill $(jobs -p)',\n",
              " 'jobs -p | xargs kill -9',\n",
              " 'jobs -p | xargs kill',\n",
              " 'kill -INT $(jobs -p)',\n",
              " 'kill `jobs -lp`',\n",
              " 'kill -9 \\\\`pgrep myprocess\\\\`',\n",
              " 'kill -9 16085',\n",
              " 'kill -9 18581 18582 18583',\n",
              " 'jobs -p | xargs kill -9',\n",
              " 'jobs -p | tail -n [number of jobs] | xargs kill',\n",
              " 'yes',\n",
              " 'kill -9 `cat save_pid.txt`',\n",
              " 'find /proc -user myuser -maxdepth 1 -type d -mtime +7 -exec basename {} \\\\; | xargs kill -9',\n",
              " 'kill %1',\n",
              " 'kill $!',\n",
              " 'kill -0 1',\n",
              " 'kill -s WINCH $$',\n",
              " 'kill `cat /var/run/DataBaseSynchronizerClient.pid`',\n",
              " 'kill -0 $PID',\n",
              " 'kill -HUP $( cat /var/run/nginx.pid )',\n",
              " 'watch -n 60 killall -USR1 dd',\n",
              " 'killall -u \"$\" dropbox',\n",
              " 'free -h',\n",
              " 'free -h --total',\n",
              " '`free -h',\n",
              " '`free -h',\n",
              " 'free -h',\n",
              " 'free -h -w',\n",
              " 'free -h -s 1',\n",
              " 'du -hs /path/to/directory',\n",
              " 'whoami',\n",
              " 'whoami',\n",
              " 'whoami=$(whoami)',\n",
              " 'echo \"su whoami\" |ssh remotehost',\n",
              " 'echo hello `whoami`',\n",
              " 'finger `whoami`',\n",
              " 'me=\"$(whoami)\"',\n",
              " 'sudo chown -R $(whoami) ~/.npm',\n",
              " 'sudo chown -R `whoami` /usr/local/lib',\n",
              " 'sudo chown -R $(whoami):admin /usr/local',\n",
              " 'sudo chown -R `whoami` /usr/local/lib',\n",
              " 'sudo chown -R $(whoami) /usr/lib/node_modules/',\n",
              " 'echo I am $(whoami) and the program named ls is in $(which ls).',\n",
              " 'HOSTNAME=\"`hostname`\"',\n",
              " 'HOSTNAME=$(hostname)',\n",
              " 'hostname $(cat /etc/hostname)',\n",
              " 'HOSTNAME=$(hostname) make -e',\n",
              " 'hostname=`hostname -s`',\n",
              " 'echo -n *Checking Partition Permission* Hostname=$(hostname) LastChecked=$(date)',\n",
              " 'echo Hostname=$(hostname) LastChecked=$(date)',\n",
              " 'uname -n',\n",
              " 'hostname',\n",
              " 'dig @server hostname.bind ch txt',\n",
              " 'echo -n `hostname`',\n",
              " 'hostname -i',\n",
              " 'hostname',\n",
              " 'hostname',\n",
              " 'sudo hostname <name>',\n",
              " 'hostname -f',\n",
              " 'find . -type f -exec chmod 0644 {} \\\\;',\n",
              " 'find . -type d -exec chmod 0755 {} \\\\;',\n",
              " 'find ./ -type f -print0 | xargs -t -0 chmod -v 644',\n",
              " 'find / -type f -perm 0777 -print -exec chmod 644 {} \\\\;',\n",
              " 'find . -type d -perm 777 -print -exec chmod 755 {} \\\\;',\n",
              " 'chmod +x bar',\n",
              " 'chmod g+w * ...*',\n",
              " 'chmod a+x myscript.sh',\n",
              " 'chmod +x file.sh',\n",
              " 'chmod 600 file',\n",
              " 'sudo chmod 755 $(which node)',\n",
              " 'find . -type f -exec chmod 644 {} \\\\;',\n",
              " 'find . -type d -exec chmod 755 {} \\\\;',\n",
              " 'chmod a+x $pathToShell\"myShell.sh\"',\n",
              " 'chmod 777 /usr/bin/wget',\n",
              " 'chmod 751 `find ./ -type d -print`',\n",
              " 'chmod <permissions> <file>',\n",
              " 'chmod +x <file>',\n",
              " 'chmod -x <file>',\n",
              " 'chmod u+rwx <file>',\n",
              " 'chmod 664 <file>',\n",
              " 'chmod a+x <file>',\n",
              " 'chmod g-w <file>',\n",
              " 'chmod o+r <file>',\n",
              " 'chmod 755 <file>',\n",
              " 'chmod -R <permissions> <dir>',\n",
              " 'sudo <command>',\n",
              " 'sudo -u <username> <command>',\n",
              " 'sudo <command>',\n",
              " 'sudo nano <file>',\n",
              " 'sudo apt install <package>',\n",
              " 'sudo apt update',\n",
              " 'sudo shutdown',\n",
              " 'sudo reboot',\n",
              " 'sudo chmod <permissions> <file>',\n",
              " 'sudo -l',\n",
              " 'sudo su',\n",
              " 'sudo mount -a',\n",
              " 'sudo find /path/to/Dir -type d -print0 | xargs -0 sudo chmod 755',\n",
              " 'sudo find /path/to/Dir -type f -print0 | xargs -0 sudo chmod 644',\n",
              " 'echo `echo \"Ho ho ho\"` | od -c',\n",
              " \"echo 'hi' | od -c\",\n",
              " \"echo 'hello, world' | cat\",\n",
              " 'find . | xargs -n 1 echo',\n",
              " 'history -s \\'echo whatever you \"want your\" command to be\\'',\n",
              " 'echo \"hello world\" | echo test=$(cat)',\n",
              " 'diff <(echo hello) <(echo goodbye)',\n",
              " 'watch \\'echo -e \"\\\\tHello World\"\\'',\n",
              " 'find . -exec echo {} ;',\n",
              " 'echo \"$(comm -12 <(echo \"$a\" | fold -w1 | sort | uniq) <(echo \"$b\" | fold -w1 | sort | uniq) | tr -d \\'\\\\n\\')\"',\n",
              " 'ls -l /bin/echo',\n",
              " \"find / -type f -exec echo {} - ';' -o -exec echo {} + ';'\",\n",
              " 'find / -type f -exec echo {} \\\\;',\n",
              " \"echo aa | wc -l | tr -d ' '\",\n",
              " 'watch \\'echo -e \"\\\\033[31mHello World\\\\033[0m\"\\'',\n",
              " 'cat ips | xargs -n1 echo ping -c 2',\n",
              " 'echo `clear`',\n",
              " 'echo hello `whoami`',\n",
              " \"echo {1..9}: 10 | tr -d ' '\",\n",
              " 'echo $(yes % | head -n3)',\n",
              " 'echo -n \"Hello\" | od -A n -t x1',\n",
              " 'echo -n `hostname`',\n",
              " 'clear',\n",
              " 'echo `clear`',\n",
              " 'history -c',\n",
              " 'history -c',\n",
              " 'history -cr',\n",
              " 'history -a',\n",
              " 'history -n',\n",
              " 'history -r',\n",
              " 'history -c',\n",
              " 'history',\n",
              " 'history -cr',\n",
              " 'ssh -O exit officefirewall',\n",
              " 'ssh -O exit otherHosttunnel',\n",
              " 'find file -chour +1 -exit 0 -o -exit 1',\n",
              " 'ssh -S \"$SSHSOCKET\" -O exit \"$USER_AT_HOST\"',\n",
              " 'echo \" RDBMS exit code : $RC \" | tee -a ${LOG_FILE}',\n",
              " 'top -n 1',\n",
              " 'df /full/path | grep -q /full/path',\n",
              " 'ssh -S my-ctrl-socket -O exit jm@sampledomain.com',\n",
              " 'kill -0 $PID',\n",
              " 'ls -l `which passwd`',\n",
              " 'find / -maxdepth 3 -name passwd',\n",
              " 'nl -nrz -w9 /etc/passwd',\n",
              " 'tar -xvzf passwd.tar.gz',\n",
              " 'read -s -p \"Enter your password: \" passwd',\n",
              " 'find -newer /etc/passwd',\n",
              " 'find / -nouser -o -nogroup',\n",
              " 'find / -nouser -o -nogroup',\n",
              " 'passwd',\n",
              " 'sudo passwd <username>',\n",
              " 'sudo passwd -e <username>',\n",
              " 'sudo passwd -l <username>',\n",
              " 'sudo passwd -u <username>',\n",
              " 'sudo passwd -x <days> <username>',\n",
              " 'sudo passwd -n <days> <username>',\n",
              " 'sudo passwd -i <days> <username>',\n",
              " 'ping -c 1 127.0.0.1',\n",
              " 'ping -b 10.10.0.255',\n",
              " 'ping -a 10.100.3.104',\n",
              " 'ping -c 1 -t 1 192.168.1.1',\n",
              " 'ping -w 1 $c',\n",
              " '`cat ips',\n",
              " 'ping -c 2 www.google.com',\n",
              " 'ping yourhostname.local',\n",
              " 'ping -D -n -O -i1 -W1 8.8.8.8',\n",
              " '`ping google.com',\n",
              " 'ping 8.8.8.8 -I eth9 -c 3 -w 3',\n",
              " '`echo $(seq 254)',\n",
              " '`ping -c 5 -q 12.34.56.78',\n",
              " '`cat ips',\n",
              " '`ping -q -c 5 google.com',\n",
              " '`ping google.com',\n",
              " '`cat file-of-ips',\n",
              " 'ping -c 1 $remote_machine',\n",
              " 'ping -c 4 -q google.comz',\n",
              " 'ping ${ip} -I eth9 -c 1',\n",
              " '`ping -W 1 -c 1 10.0.0.$i',\n",
              " '`ping -c 25 google.com',\n",
              " '`ping -c 1 192.168.1.$COUNTER',\n",
              " '`PacketLoss=$(ping \"$TestIP\" -c 2',\n",
              " 'tee \" into pieces per 100000 bytes named as \"/home/user/myLogFile.logNNN\"',\n",
              " '`ping -c1 1199092913',\n",
              " '`ping -c 5 -q $host',\n",
              " '`packet_loss=$(ping -c 5 -q $host',\n",
              " 'curl \"url\" | tac | tac | grep -qs foo',\n",
              " 'curl http://127.0.0.1:8000 -o index.html',\n",
              " 'curl -L https://get.scoop.sh',\n",
              " 'curl -s www.google.com | md5',\n",
              " 'header=\"$(curl -sI \"$1\" | tr -d \\'\\\\r\\')\"',\n",
              " 'curl https://www.npmjs.com/install.sh | sh',\n",
              " 'diff <(curl -s http://tldp.org/LDP/abs/html/) <(curl -s http://www.redhat.com/mirrors/LDP/LDP/abs/html/)',\n",
              " 'curl https://raw.github.com/creationix/nvm/master/install.sh | sh',\n",
              " 'find /export/home/someone -exec curl -u someone:password -vT {} ftp://somehost/tmp/',\n",
              " 'curl -L -C - -b \"oraclelicense=accept-securebackup-cookie\" -O http://download.oracle.com/otn-pub/java/jce/8/jce_policy-8.zip',\n",
              " 'curl http://example.com',\n",
              " 'curl -o filename.txt http://example.com/file.txt',\n",
              " 'curl -I http://example.com',\n",
              " 'curl -L http://example.com/file.txt -o file.txt',\n",
              " 'curl -s http://example.com',\n",
              " 'curl -v http://example.com',\n",
              " 'curl -C - -O http://example.com/file.zip',\n",
              " 'curl -o /dev/null -s -w \"%{http_code}\\\\n\" http://example.com',\n",
              " 'curl -A \"Mozilla/5.0\" -O http://example.com/file.txt',\n",
              " 'curl -X POST -d \"param1=value1&param2=value2\" http://example.com',\n",
              " 'ifconfig',\n",
              " 'ip a',\n",
              " 'ifconfig eth0',\n",
              " 'ip addr show eth0',\n",
              " '`ifconfig eth0',\n",
              " 'ip addr show',\n",
              " 'ifconfig eth0 up',\n",
              " 'ifconfig eth0 down',\n",
              " 'ifconfig eth0 192.168.1.10',\n",
              " 'ip addr add 192.168.1.10/24 dev eth0',\n",
              " 'ip route show default',\n",
              " '`ifconfig eth0',\n",
              " 'find /lib/modules/`uname -r` -regex .*perf.*',\n",
              " 'grep “HIGHMEM” /boot/config-`uname -r`',\n",
              " 'grep PROBES /boot/config-$(uname -r)',\n",
              " 'grep ds1337 /lib/modules/`uname -r`/modules.alias',\n",
              " 'find ~ -type d -exec chmod +x {} \\\\;',\n",
              " 'find /volume1/uploads -name \"*.mkv\" -exec mv \\\\{\\\\} \\\\{\\\\}.avi \\\\;',\n",
              " \"find . -maxdepth 0 -type f -exec chmod g+w {} ';'\",\n",
              " 'find . -type d -exec chmod +rx {} \\\\;',\n",
              " 'find . -name \"rc.conf\" -exec chmod o+r \\'{}\\' \\\\;',\n",
              " 'find ~/dir_data -type d -exec chmod a+xr,u+w {} \\\\;',\n",
              " 'find -type f | xargs -I {} mv {} {}.txt',\n",
              " 'find . -type f -name \"*.java\" | xargs tar rvf myfile.tar',\n",
              " \"find . -name -type f '*.mp3' -mtime -180 -print0 | xargs -0 tar rvf music.tar\",\n",
              " 'find . \\\\( -iname \"*.png\" -o -iname \"*.jpg\" \\\\) -print -exec tar -rf images.tar {} \\\\;',\n",
              " 'find . -mtime -1 -type f -exec tar rvf \"$archive.tar\" \\'{}\\' \\\\;',\n",
              " 'find . -mtime -1 -type f -print0 | xargs -0 tar rvf \"$archive.tar\"',\n",
              " \"find . -name \\\\*.xml | grep -v /workspace/ | tr '\\\\n' '\\\\0' | xargs -0 tar -cf xml.tar\",\n",
              " 'find . -type f -name \"*html\" | xargs tar cvf htmlfiles.tar -',\n",
              " 'find /path/to/directory/* -maxdepth 0 -type d -printf \"%P\\\\n\" -exec sudo tar -zcpvf {}.tar.gz {} \\\\;',\n",
              " 'find /path/* -maxdepth 0 -type d -exec sudo tar -zcpvf {}.tar.gz {} \\\\;',\n",
              " \"find data/ -name 'filepattern-*2009*' -exec tar uf 2009.tar '{}' +\",\n",
              " 'find data/ -name filepattern-*2009* -exec tar uf 2009.tar {} ;',\n",
              " 'find data/ -name filepattern-*2009* -print0 | xargs -0 tar uf 2009.tar',\n",
              " 'find / -print0 | xargs -0 tar cjf tarfile.tar.bz2',\n",
              " 'find . -type f -print0 | xargs -0 chmod 644',\n",
              " 'find . -type d -print0 | xargs -0 chmod 755',\n",
              " 'find /etc -name \"*.txt\" | xargs -I {} mv {} {}.bak',\n",
              " 'find /etc -print0 -name \"*.txt\" | xargs -I {} -0 mv {} {}.bak',\n",
              " 'find . -name \"*.java\" -exec cp {} {}.bk \\\\;',\n",
              " 'find /usr/local/svn/repos/ -maxdepth 1 -mindepth 1 -type d -printf \"%f\\\\0\" | xargs -0 -I{} echo svnadmin hotcopy /usr/local/svn/repos/\\\\{\\\\} /usr/local/backup/\\\\{\\\\}',\n",
              " 'find . -type f -exec md5sum \\\\{\\\\} \\\\;',\n",
              " 'find . | xargs md5sum',\n",
              " 'find \"$path\" -type f -print0 | sort -z | xargs -r0 md5sum | md5sum',\n",
              " 'grep -ar -e . --include=\"*.py\" /your/dir | md5sum | cut -c-32',\n",
              " 'grep -aR -e . /your/dir | md5sum | cut -c-32']"
            ]
          },
          "metadata": {},
          "execution_count": 19
        }
      ]
    },
    {
      "cell_type": "code",
      "source": [
        "natural_lang[1]"
      ],
      "metadata": {
        "colab": {
          "base_uri": "https://localhost:8080/",
          "height": 39
        },
        "id": "opJjrHC8EY9P",
        "outputId": "f4dd32e7-2184-4872-8421-7aaf78c037f1"
      },
      "execution_count": 18,
      "outputs": [
        {
          "output_type": "execute_result",
          "data": {
            "text/plain": [
              "'Show me all the files in this directory'"
            ],
            "application/vnd.google.colaboratory.intrinsic+json": {
              "type": "string"
            }
          },
          "metadata": {},
          "execution_count": 18
        }
      ]
    },
    {
      "cell_type": "markdown",
      "source": [
        "# Text Preprocessing"
      ],
      "metadata": {
        "id": "xI8rUEXjEiiy"
      }
    },
    {
      "cell_type": "markdown",
      "source": [
        "# intializing TOkenizer"
      ],
      "metadata": {
        "id": "TDGICNvuGGtu"
      }
    },
    {
      "cell_type": "code",
      "source": [
        "from tensorflow.keras.preprocessing.text import Tokenizer\n",
        "from tensorflow.keras.preprocessing.sequence import pad_sequences"
      ],
      "metadata": {
        "id": "bwtoVOEXEa82"
      },
      "execution_count": 22,
      "outputs": []
    },
    {
      "cell_type": "code",
      "source": [
        "text_tokenizer=Tokenizer()"
      ],
      "metadata": {
        "id": "gwUrp29AE1Yo"
      },
      "execution_count": 24,
      "outputs": []
    },
    {
      "cell_type": "code",
      "source": [
        "cmd_tokenizer=Tokenizer()"
      ],
      "metadata": {
        "id": "UWDfZ3YRE5nz"
      },
      "execution_count": 25,
      "outputs": []
    },
    {
      "cell_type": "code",
      "source": [
        "text_tokenizer.fit_on_texts(natural_lang)\n",
        "cmd_tokenizer.fit_on_texts(term_cmd)"
      ],
      "metadata": {
        "id": "hn73zR3MFHbr"
      },
      "execution_count": 26,
      "outputs": []
    },
    {
      "cell_type": "markdown",
      "source": [
        "# Converting sequences"
      ],
      "metadata": {
        "id": "iUpmP38oGItE"
      }
    },
    {
      "cell_type": "code",
      "source": [
        "term_cmd[0]"
      ],
      "metadata": {
        "colab": {
          "base_uri": "https://localhost:8080/",
          "height": 39
        },
        "id": "6OMYR2HHI4R0",
        "outputId": "0242a959-91b3-4c06-e84d-f63d189377ec"
      },
      "execution_count": 93,
      "outputs": [
        {
          "output_type": "execute_result",
          "data": {
            "text/plain": [
              "'ls'"
            ],
            "application/vnd.google.colaboratory.intrinsic+json": {
              "type": "string"
            }
          },
          "metadata": {},
          "execution_count": 93
        }
      ]
    },
    {
      "cell_type": "code",
      "source": [
        "text_sequences=text_tokenizer.texts_to_sequences(natural_lang)\n",
        "cmd_sequence=cmd_tokenizer.texts_to_sequences(term_cmd)\n"
      ],
      "metadata": {
        "id": "ztgeSQkwFt-f"
      },
      "execution_count": 94,
      "outputs": []
    },
    {
      "cell_type": "code",
      "source": [
        "text_sequences[0]"
      ],
      "metadata": {
        "colab": {
          "base_uri": "https://localhost:8080/"
        },
        "id": "ow4rV8CbGV6R",
        "outputId": "8c567072-cf84-4d69-f8ae-c3013fd219b2"
      },
      "execution_count": 95,
      "outputs": [
        {
          "output_type": "execute_result",
          "data": {
            "text/plain": [
              "[38, 7, 6, 4, 1, 12, 8]"
            ]
          },
          "metadata": {},
          "execution_count": 95
        }
      ]
    },
    {
      "cell_type": "code",
      "source": [
        "text_tokenizer.sequences_to_texts([[38, 7, 6, 4, 1, 12, 8]])\n"
      ],
      "metadata": {
        "colab": {
          "base_uri": "https://localhost:8080/"
        },
        "id": "QOzfqKFBGWrq",
        "outputId": "3c1e138c-b2e9-49aa-d0ba-405aaf01f4f4"
      },
      "execution_count": 96,
      "outputs": [
        {
          "output_type": "execute_result",
          "data": {
            "text/plain": [
              "['list all files in the current directory']"
            ]
          },
          "metadata": {},
          "execution_count": 96
        }
      ]
    },
    {
      "cell_type": "code",
      "source": [
        "len(text_sequences)"
      ],
      "metadata": {
        "colab": {
          "base_uri": "https://localhost:8080/"
        },
        "id": "aB5CemhoGeQJ",
        "outputId": "a1c05247-c659-43fd-819f-3ba5ce2299f9"
      },
      "execution_count": 97,
      "outputs": [
        {
          "output_type": "execute_result",
          "data": {
            "text/plain": [
              "642"
            ]
          },
          "metadata": {},
          "execution_count": 97
        }
      ]
    },
    {
      "cell_type": "code",
      "source": [
        "z=cmd_sequence[0]"
      ],
      "metadata": {
        "id": "OxE6vB-qIw1m"
      },
      "execution_count": 98,
      "outputs": []
    },
    {
      "cell_type": "code",
      "source": [
        "cmd_tokenizer.sequences_to_texts([z])\n"
      ],
      "metadata": {
        "colab": {
          "base_uri": "https://localhost:8080/"
        },
        "id": "74waJoU4IsXx",
        "outputId": "0f550a4d-904f-4324-bbef-c35e5133cb28"
      },
      "execution_count": 99,
      "outputs": [
        {
          "output_type": "execute_result",
          "data": {
            "text/plain": [
              "['ls']"
            ]
          },
          "metadata": {},
          "execution_count": 99
        }
      ]
    },
    {
      "cell_type": "code",
      "source": [
        "max_textLen=max(len(text) for text in text_sequences)\n",
        "max_cmdLen=max(len(cmd) for cmd in cmd_sequence)"
      ],
      "metadata": {
        "id": "a0VUGPlFG_Qn"
      },
      "execution_count": 100,
      "outputs": []
    },
    {
      "cell_type": "code",
      "source": [
        "max_textLen ,max_cmdLen"
      ],
      "metadata": {
        "colab": {
          "base_uri": "https://localhost:8080/"
        },
        "id": "EjkmzM-vHe6m",
        "outputId": "d801d32c-70db-46be-e834-c0d61edc88e3"
      },
      "execution_count": 101,
      "outputs": [
        {
          "output_type": "execute_result",
          "data": {
            "text/plain": [
              "(42, 27)"
            ]
          },
          "metadata": {},
          "execution_count": 101
        }
      ]
    },
    {
      "cell_type": "markdown",
      "source": [
        "# padding the sentences"
      ],
      "metadata": {
        "id": "xVgN495MHitv"
      }
    },
    {
      "cell_type": "code",
      "source": [
        "text_sequences=pad_sequences(text_sequences,padding=\"post\",maxlen=max_textLen)\n",
        "cmd_sequence=pad_sequences(cmd_sequence,padding=\"post\",maxlen=max_cmdLen)"
      ],
      "metadata": {
        "id": "_em82OXEHhNq"
      },
      "execution_count": 102,
      "outputs": []
    },
    {
      "cell_type": "code",
      "source": [
        "x=text_sequences[0]"
      ],
      "metadata": {
        "id": "e0YpVGZTH-8t"
      },
      "execution_count": 103,
      "outputs": []
    },
    {
      "cell_type": "code",
      "source": [
        "text_tokenizer.sequences_to_texts([x])\n"
      ],
      "metadata": {
        "colab": {
          "base_uri": "https://localhost:8080/"
        },
        "id": "rl6j4FbwIGHl",
        "outputId": "c606a55e-77c5-4e0d-db2b-14e30e2c3e2c"
      },
      "execution_count": 104,
      "outputs": [
        {
          "output_type": "execute_result",
          "data": {
            "text/plain": [
              "['list all files in the current directory']"
            ]
          },
          "metadata": {},
          "execution_count": 104
        }
      ]
    },
    {
      "cell_type": "code",
      "source": [
        "x=cmd_sequence[0]"
      ],
      "metadata": {
        "id": "rwG4zaAjIcvH"
      },
      "execution_count": 105,
      "outputs": []
    },
    {
      "cell_type": "code",
      "source": [
        "cmd_tokenizer.sequences_to_texts([x])"
      ],
      "metadata": {
        "colab": {
          "base_uri": "https://localhost:8080/"
        },
        "id": "RBNPB9WTIQ-o",
        "outputId": "8a9a294c-35a9-4906-96e1-c8340ba4ab1d"
      },
      "execution_count": 106,
      "outputs": [
        {
          "output_type": "execute_result",
          "data": {
            "text/plain": [
              "['ls']"
            ]
          },
          "metadata": {},
          "execution_count": 106
        }
      ]
    },
    {
      "cell_type": "markdown",
      "source": [
        "###### BREAK ######"
      ],
      "metadata": {
        "id": "6L01nrKuJHvF"
      }
    },
    {
      "cell_type": "markdown",
      "source": [
        "So for now  we have set up our Dataset ,\n",
        "\n",
        "as in tokenized the sentences\n",
        "->\n",
        "\n",
        "show all files =[1,2,3,4,] etc some number\n",
        "\n",
        "same for cmd"
      ],
      "metadata": {
        "id": "qycWQIWoJKGY"
      }
    },
    {
      "cell_type": "markdown",
      "source": [
        "Our Next task will be to implement the architecture of transformer ,small enough to work on google collab, with fine accuracy"
      ],
      "metadata": {
        "id": "-xmIBSCRJXrc"
      }
    },
    {
      "cell_type": "markdown",
      "source": [
        "# ENCODER PART"
      ],
      "metadata": {
        "id": "mtZ7NRDYJhJ2"
      }
    },
    {
      "cell_type": "markdown",
      "source": [
        "We know its parts being :"
      ],
      "metadata": {
        "id": "LujYb5gvJj75"
      }
    },
    {
      "cell_type": "markdown",
      "source": [
        "\n",
        "\n",
        "1. Positional Embedding(after input embedding)\n",
        "    embedding with context to prev n all\n",
        "2. Skip connection\n",
        "3. Multi Head Attention\n",
        "4. Add & Normalization\n",
        "5. Feed Forward\n",
        "6. Add & norm again.\n",
        "7. passing the output to mha\n",
        "\n"
      ],
      "metadata": {
        "id": "DqcWo30kJmS4"
      }
    },
    {
      "cell_type": "markdown",
      "source": [
        "# POSITIONAL EMBEDDING"
      ],
      "metadata": {
        "id": "kJR_bB7HKPAV"
      }
    },
    {
      "cell_type": "markdown",
      "source": [
        " Here th different parts will include 🇰"
      ],
      "metadata": {
        "id": "hE2sPHRpKQi7"
      }
    },
    {
      "cell_type": "markdown",
      "source": [
        "1.Input Embedding\n",
        "2. Positional encoding the main part"
      ],
      "metadata": {
        "id": "OO6RD1I3KeqI"
      }
    },
    {
      "cell_type": "code",
      "source": [
        "import tensorflow as tf\n"
      ],
      "metadata": {
        "id": "rQGUJ2tcO2Df"
      },
      "execution_count": 107,
      "outputs": []
    },
    {
      "cell_type": "code",
      "source": [
        "class PositionalEmbedding(tf.keras.layers.Layer):\n",
        "  def __init__(self,vocab_size,emb_dim):\n",
        "    super().__init__()\n",
        "    self.emb_dim=emb_dim\n",
        "    self.vocab_size=vocab_size\n",
        "    self.embedding=tf.keras.layers.Embedding(vocab_size,emb_dim,mask_zero=True)\n",
        "    self.positional_encoding=positional_encoding(length=1000,depth=emb_dim)\n",
        "\n",
        "  #defining not using padding\n",
        "  def compute_mask(self,*args,**kwargs):\n",
        "    return self.embedding.compute_mask(*args,**kwargs)\n",
        "  def call(self,input_sq):\n",
        "    length=tf.shape(input_sq)[1] # num of tokens\n",
        "    input_sq=self.embedding(input_sq)\n",
        "    #scaled dot product attention\n",
        "    input_sq*=tf.math.sqrt(tf.cast(self.emb_dim,tf.float32))\n",
        "    input_sq=input_sq+self.positional_encoding[tf.newaxis,:length,:]\n",
        "    return input_sq\n",
        "\n"
      ],
      "metadata": {
        "id": "8MqTPdtpIg41"
      },
      "execution_count": 109,
      "outputs": []
    },
    {
      "cell_type": "code",
      "source": [],
      "metadata": {
        "id": "Vt1hoP_NPWX4"
      },
      "execution_count": null,
      "outputs": []
    }
  ]
}